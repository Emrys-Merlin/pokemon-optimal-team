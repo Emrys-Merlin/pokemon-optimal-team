{
 "cells": [
  {
   "cell_type": "markdown",
   "metadata": {},
   "source": [
    "# Visualize the types in an optimal team with 7 different types allowed\n",
    "\n",
    "We were looking for a team such that for each possible opposing type there is at least one type in the team that is effective (ie having an attack multiplier of 2). In this notebook we visualize what types turn up in what frequencies"
   ]
  },
  {
   "cell_type": "code",
   "execution_count": 1,
   "metadata": {},
   "outputs": [],
   "source": [
    "import pandas as pd\n",
    "import numpy as np\n",
    "import matplotlib.pyplot as plt\n",
    "import seaborn as sns\n",
    "sns.set()"
   ]
  },
  {
   "cell_type": "markdown",
   "metadata": {},
   "source": [
    "## Possible optimal teams"
   ]
  },
  {
   "cell_type": "code",
   "execution_count": 2,
   "metadata": {},
   "outputs": [
    {
     "data": {
      "text/html": [
       "<div>\n",
       "<style scoped>\n",
       "    .dataframe tbody tr th:only-of-type {\n",
       "        vertical-align: middle;\n",
       "    }\n",
       "\n",
       "    .dataframe tbody tr th {\n",
       "        vertical-align: top;\n",
       "    }\n",
       "\n",
       "    .dataframe thead th {\n",
       "        text-align: right;\n",
       "    }\n",
       "</style>\n",
       "<table border=\"1\" class=\"dataframe\">\n",
       "  <thead>\n",
       "    <tr style=\"text-align: right;\">\n",
       "      <th></th>\n",
       "      <th>0</th>\n",
       "      <th>1</th>\n",
       "      <th>2</th>\n",
       "      <th>3</th>\n",
       "      <th>4</th>\n",
       "      <th>5</th>\n",
       "      <th>6</th>\n",
       "    </tr>\n",
       "  </thead>\n",
       "  <tbody>\n",
       "    <tr>\n",
       "      <th>0</th>\n",
       "      <td>Fight</td>\n",
       "      <td>Flying</td>\n",
       "      <td>Poison</td>\n",
       "      <td>Ground</td>\n",
       "      <td>Ghost</td>\n",
       "      <td>Grass</td>\n",
       "      <td>Ice</td>\n",
       "    </tr>\n",
       "    <tr>\n",
       "      <th>1</th>\n",
       "      <td>Fight</td>\n",
       "      <td>Flying</td>\n",
       "      <td>Poison</td>\n",
       "      <td>Ground</td>\n",
       "      <td>Ghost</td>\n",
       "      <td>Electric</td>\n",
       "      <td>Ice</td>\n",
       "    </tr>\n",
       "    <tr>\n",
       "      <th>2</th>\n",
       "      <td>Fight</td>\n",
       "      <td>Flying</td>\n",
       "      <td>Poison</td>\n",
       "      <td>Ground</td>\n",
       "      <td>Grass</td>\n",
       "      <td>Ice</td>\n",
       "      <td>Dragon</td>\n",
       "    </tr>\n",
       "    <tr>\n",
       "      <th>3</th>\n",
       "      <td>Fight</td>\n",
       "      <td>Flying</td>\n",
       "      <td>Poison</td>\n",
       "      <td>Ground</td>\n",
       "      <td>Grass</td>\n",
       "      <td>Ice</td>\n",
       "      <td>Dark</td>\n",
       "    </tr>\n",
       "    <tr>\n",
       "      <th>4</th>\n",
       "      <td>Fight</td>\n",
       "      <td>Flying</td>\n",
       "      <td>Poison</td>\n",
       "      <td>Ground</td>\n",
       "      <td>Electric</td>\n",
       "      <td>Ice</td>\n",
       "      <td>Dragon</td>\n",
       "    </tr>\n",
       "    <tr>\n",
       "      <th>5</th>\n",
       "      <td>Fight</td>\n",
       "      <td>Flying</td>\n",
       "      <td>Poison</td>\n",
       "      <td>Ground</td>\n",
       "      <td>Electric</td>\n",
       "      <td>Ice</td>\n",
       "      <td>Dark</td>\n",
       "    </tr>\n",
       "    <tr>\n",
       "      <th>6</th>\n",
       "      <td>Fight</td>\n",
       "      <td>Flying</td>\n",
       "      <td>Ground</td>\n",
       "      <td>Ghost</td>\n",
       "      <td>Steel</td>\n",
       "      <td>Grass</td>\n",
       "      <td>Ice</td>\n",
       "    </tr>\n",
       "    <tr>\n",
       "      <th>7</th>\n",
       "      <td>Fight</td>\n",
       "      <td>Flying</td>\n",
       "      <td>Ground</td>\n",
       "      <td>Ghost</td>\n",
       "      <td>Steel</td>\n",
       "      <td>Electric</td>\n",
       "      <td>Ice</td>\n",
       "    </tr>\n",
       "    <tr>\n",
       "      <th>8</th>\n",
       "      <td>Fight</td>\n",
       "      <td>Flying</td>\n",
       "      <td>Ground</td>\n",
       "      <td>Steel</td>\n",
       "      <td>Grass</td>\n",
       "      <td>Ice</td>\n",
       "      <td>Dragon</td>\n",
       "    </tr>\n",
       "    <tr>\n",
       "      <th>9</th>\n",
       "      <td>Fight</td>\n",
       "      <td>Flying</td>\n",
       "      <td>Ground</td>\n",
       "      <td>Steel</td>\n",
       "      <td>Grass</td>\n",
       "      <td>Ice</td>\n",
       "      <td>Dark</td>\n",
       "    </tr>\n",
       "    <tr>\n",
       "      <th>10</th>\n",
       "      <td>Fight</td>\n",
       "      <td>Flying</td>\n",
       "      <td>Ground</td>\n",
       "      <td>Steel</td>\n",
       "      <td>Electric</td>\n",
       "      <td>Ice</td>\n",
       "      <td>Dragon</td>\n",
       "    </tr>\n",
       "    <tr>\n",
       "      <th>11</th>\n",
       "      <td>Fight</td>\n",
       "      <td>Flying</td>\n",
       "      <td>Ground</td>\n",
       "      <td>Steel</td>\n",
       "      <td>Electric</td>\n",
       "      <td>Ice</td>\n",
       "      <td>Dark</td>\n",
       "    </tr>\n",
       "    <tr>\n",
       "      <th>12</th>\n",
       "      <td>Fight</td>\n",
       "      <td>Poison</td>\n",
       "      <td>Ground</td>\n",
       "      <td>Rock</td>\n",
       "      <td>Ghost</td>\n",
       "      <td>Grass</td>\n",
       "      <td>Fairy</td>\n",
       "    </tr>\n",
       "    <tr>\n",
       "      <th>13</th>\n",
       "      <td>Fight</td>\n",
       "      <td>Poison</td>\n",
       "      <td>Ground</td>\n",
       "      <td>Rock</td>\n",
       "      <td>Grass</td>\n",
       "      <td>Dragon</td>\n",
       "      <td>Fairy</td>\n",
       "    </tr>\n",
       "    <tr>\n",
       "      <th>14</th>\n",
       "      <td>Fight</td>\n",
       "      <td>Poison</td>\n",
       "      <td>Ground</td>\n",
       "      <td>Rock</td>\n",
       "      <td>Grass</td>\n",
       "      <td>Dark</td>\n",
       "      <td>Fairy</td>\n",
       "    </tr>\n",
       "  </tbody>\n",
       "</table>\n",
       "</div>"
      ],
      "text/plain": [
       "        0       1       2       3         4         5       6\n",
       "0   Fight  Flying  Poison  Ground     Ghost     Grass     Ice\n",
       "1   Fight  Flying  Poison  Ground     Ghost  Electric     Ice\n",
       "2   Fight  Flying  Poison  Ground     Grass       Ice  Dragon\n",
       "3   Fight  Flying  Poison  Ground     Grass       Ice    Dark\n",
       "4   Fight  Flying  Poison  Ground  Electric       Ice  Dragon\n",
       "5   Fight  Flying  Poison  Ground  Electric       Ice    Dark\n",
       "6   Fight  Flying  Ground   Ghost     Steel     Grass     Ice\n",
       "7   Fight  Flying  Ground   Ghost     Steel  Electric     Ice\n",
       "8   Fight  Flying  Ground   Steel     Grass       Ice  Dragon\n",
       "9   Fight  Flying  Ground   Steel     Grass       Ice    Dark\n",
       "10  Fight  Flying  Ground   Steel  Electric       Ice  Dragon\n",
       "11  Fight  Flying  Ground   Steel  Electric       Ice    Dark\n",
       "12  Fight  Poison  Ground    Rock     Ghost     Grass   Fairy\n",
       "13  Fight  Poison  Ground    Rock     Grass    Dragon   Fairy\n",
       "14  Fight  Poison  Ground    Rock     Grass      Dark   Fairy"
      ]
     },
     "execution_count": 2,
     "metadata": {},
     "output_type": "execute_result"
    }
   ],
   "source": [
    "df = pd.read_csv('./optimal_teams_n07.csv', index_col=0)\n",
    "df"
   ]
  },
  {
   "cell_type": "markdown",
   "metadata": {},
   "source": [
    "So there are 15 optimal geams and Fight and Ground are in each one of them.\n",
    "We load the attributa advantag/disadvantage table to get all possible types."
   ]
  },
  {
   "cell_type": "code",
   "execution_count": 3,
   "metadata": {},
   "outputs": [],
   "source": [
    "att_tab = pd.read_csv('./attribute_table_sword_shield.csv', index_col=0)"
   ]
  },
  {
   "cell_type": "markdown",
   "metadata": {},
   "source": [
    "How often do we have which type in an optimal team"
   ]
  },
  {
   "cell_type": "code",
   "execution_count": 4,
   "metadata": {},
   "outputs": [],
   "source": [
    "counts = pd.Series(index=att_tab.index)\n",
    "\n",
    "for t in df.values.reshape(-1):\n",
    "    if np.isnan(counts[t]):\n",
    "        counts[t] = 1\n",
    "    else:\n",
    "        counts[t] += 1\n"
   ]
  },
  {
   "cell_type": "code",
   "execution_count": 7,
   "metadata": {},
   "outputs": [
    {
     "data": {
      "text/plain": [
       "Ground      15.0\n",
       "Fight       15.0\n",
       "Ice         12.0\n",
       "Flying      12.0\n",
       "Grass        9.0\n",
       "Poison       9.0\n",
       "Electric     6.0\n",
       "Steel        6.0\n",
       "Dark         5.0\n",
       "Dragon       5.0\n",
       "Ghost        5.0\n",
       "Fairy        3.0\n",
       "Rock         3.0\n",
       "Normal       NaN\n",
       "Bug          NaN\n",
       "Fire         NaN\n",
       "Water        NaN\n",
       "Psychic      NaN\n",
       "dtype: float64"
      ]
     },
     "execution_count": 7,
     "metadata": {},
     "output_type": "execute_result"
    }
   ],
   "source": [
    "counts = counts.sort_values(ascending=False)\n",
    "counts"
   ]
  },
  {
   "cell_type": "code",
   "execution_count": 8,
   "metadata": {},
   "outputs": [
    {
     "data": {
      "text/plain": [
       "<matplotlib.axes._subplots.AxesSubplot at 0x7f8d8dd888d0>"
      ]
     },
     "execution_count": 8,
     "metadata": {},
     "output_type": "execute_result"
    },
    {
     "data": {
      "image/png": "[encoded data removed]",
      "text/plain": [
       "<Figure size 1152x648 with 1 Axes>"
      ]
     },
     "metadata": {},
     "output_type": "display_data"
    }
   ],
   "source": [
    "plt.figure(figsize=(16, 9))\n",
    "sns.barplot(x=counts.index, y=counts.values)"
   ]
  },
  {
   "cell_type": "markdown",
   "metadata": {},
   "source": [
    "So overall Fight and Ground are the deal breakers. You need both. The runner-ups are Ice and Flying. I was surprised by this because so far I neglected both Fight and Ground in my team builds. Interestingly, both Fire and Water don't show up in the team either (maybe an argument against these starters?), wheres Grass is possible. Last, but not least, Normal, Bug and Psychic can also be neglected."
   ]
  },
  {
   "cell_type": "code",
   "execution_count": null,
   "metadata": {},
   "outputs": [],
   "source": []
  }
 ],
 "metadata": {
  "kernelspec": {
   "display_name": "Python 3",
   "language": "python",
   "name": "python3"
  },
  "language_info": {
   "codemirror_mode": {
    "name": "ipython",
    "version": 3
   },
   "file_extension": ".py",
   "mimetype": "text/x-python",
   "name": "python",
   "nbconvert_exporter": "python",
   "pygments_lexer": "ipython3",
   "version": "3.6.5"
  }
 },
 "nbformat": 4,
 "nbformat_minor": 2
}
