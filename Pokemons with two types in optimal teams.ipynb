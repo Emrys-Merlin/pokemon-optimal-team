{
 "cells": [
  {
   "cell_type": "markdown",
   "metadata": {},
   "source": [
    "# Pokemons with two types in optimal teams\n",
    "\n",
    "Since more than 6 types are necessary for an optimal team (namely 7), I wondered how many Pokemon with two types from an optimal team exist. I computed the result in optimal_teams.py. Here is a bit of an exploration of the results"
   ]
  },
  {
   "cell_type": "code",
   "execution_count": null,
   "metadata": {},
   "outputs": [],
   "source": [
    "import pandas as pd\n",
    "import numpy as np\n",
    "import matplotlib.pyplot as plt\n",
    "import seaborn as sns\n",
    "sns.set()"
   ]
  },
  {
   "cell_type": "markdown",
   "metadata": {},
   "source": [
    "Read teh doublets"
   ]
  },
  {
   "cell_type": "code",
   "execution_count": null,
   "metadata": {},
   "outputs": [],
   "source": [
    "doublets = pd.read_csv('./doublets_n07.csv', index_col=0)\n",
    "doublets = doublets[['id', 'name', 'type1', 'type2', 'teams']]"
   ]
  },
  {
   "cell_type": "markdown",
   "metadata": {},
   "source": [
    "## First 10 Pokemons by id\n",
    "This is meant as a proxy for Pokemon that I can probably find early on"
   ]
  },
  {
   "cell_type": "code",
   "execution_count": null,
   "metadata": {},
   "outputs": [],
   "source": [
    "doublets.sort_values('id').head(10)"
   ]
  },
  {
   "cell_type": "markdown",
   "metadata": {},
   "source": [
    "## Greatest flexibility\n",
    "Which Pokemon can be used in the most optimal teams?"
   ]
  },
  {
   "cell_type": "code",
   "execution_count": null,
   "metadata": {},
   "outputs": [],
   "source": [
    "doublets['n_teams_proxy'] = doublets.teams.str.len()"
   ]
  },
  {
   "cell_type": "code",
   "execution_count": null,
   "metadata": {},
   "outputs": [],
   "source": [
    "doublets.sort_values('n_teams_proxy', ascending=False).drop('n_teams_proxy', axis=1).head(10)"
   ]
  },
  {
   "cell_type": "markdown",
   "metadata": {},
   "source": [
    "## Without Grass\n",
    "I have the grass starter and I want to use it for some time, so any doublets with grass have a lower relevance for me. Without them we get"
   ]
  },
  {
   "cell_type": "code",
   "execution_count": null,
   "metadata": {},
   "outputs": [],
   "source": [
    "doublets_no_grass = doublets[(doublets.type1 != 'Grass') & (doublets.type2 != 'Grass')]\n",
    "doublets_no_grass.sort_values('n_teams_proxy', ascending=False).drop('n_teams_proxy', axis=1).head(10)"
   ]
  },
  {
   "cell_type": "code",
   "execution_count": null,
   "metadata": {},
   "outputs": [],
   "source": []
  }
 ],
 "metadata": {
  "kernelspec": {
   "display_name": "Python 3",
   "language": "python",
   "name": "python3"
  },
  "language_info": {
   "codemirror_mode": {
    "name": "ipython",
    "version": 3
   },
   "file_extension": ".py",
   "mimetype": "text/x-python",
   "name": "python",
   "nbconvert_exporter": "python",
   "pygments_lexer": "ipython3",
   "version": "3.6.5"
  }
 },
 "nbformat": 4,
 "nbformat_minor": 2
}
